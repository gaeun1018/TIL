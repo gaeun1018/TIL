{
 "cells": [
  {
   "cell_type": "code",
   "execution_count": 1,
   "metadata": {},
   "outputs": [],
   "source": [
    "from selenium.webdriver.common.action_chains import ActionChains\n",
    "import cv2\n",
    "import os\n",
    "from selenium import webdriver\n",
    "import time\n",
    "import selenium\n",
    "from selenium.webdriver.common.keys import Keys\n",
    "import urllib.request\n",
    "import time\n",
    "import cv2\n",
    "from bs4 import BeautifulSoup\n",
    "from selenium.webdriver.common.by import By\n",
    "\n",
    "# chrome_options = webdriver.ChromeOptions()\n",
    "# chrome_options.add_argument('--headless')\n",
    "# chrome_options.add_argument('--no-sandbox')\n",
    "# chrome_options.add_argument(\"--single-process\")\n",
    "# chrome_options.add_argument(\"--disable-dev-shm-usage\")\n",
    "# path='/data/notebook/chromedriver'\n",
    "# driver = webdriver.Chrome(path, options=chrome_options)"
   ]
  },
  {
   "cell_type": "code",
   "execution_count": 2,
   "metadata": {},
   "outputs": [],
   "source": [
    "from japan_crw6 import gglcrawling"
   ]
  },
  {
   "cell_type": "code",
   "execution_count": 4,
   "metadata": {},
   "outputs": [
    {
     "name": "stderr",
     "output_type": "stream",
     "text": [
      "/root/anaconda3/envs/test/lib/python3.7/site-packages/ipykernel_launcher.py:12: DeprecationWarning: executable_path has been deprecated, please pass in a Service object\n",
      "  if sys.path[0] == '':\n"
     ]
    },
    {
     "name": "stdout",
     "output_type": "stream",
     "text": [
      "Luca_A1\n"
     ]
    }
   ],
   "source": [
    "\n",
    "for age in range(5,9):\n",
    "    for sex in range(1,3):\n",
    "        for page in range(1,2):\n",
    "            if age == 5 and sex == 1:\n",
    "                continue\n",
    "            chrome_options = webdriver.ChromeOptions()\n",
    "            chrome_options.add_argument('--headless')\n",
    "            chrome_options.add_argument('--no-sandbox')\n",
    "            chrome_options.add_argument(\"--single-process\")\n",
    "            chrome_options.add_argument(\"--disable-dev-shm-usage\")\n",
    "            path='/data/notebook/chromedriver'\n",
    "            driver = webdriver.Chrome(path, options=chrome_options)\n",
    "\n",
    "\n",
    "            gglcrawling(driver,sex,age,page)"
   ]
  },
  {
   "cell_type": "code",
   "execution_count": null,
   "metadata": {},
   "outputs": [],
   "source": []
  }
 ],
 "metadata": {
  "kernelspec": {
   "display_name": "jupyter",
   "language": "python",
   "name": "test"
  },
  "language_info": {
   "codemirror_mode": {
    "name": "ipython",
    "version": 3
   },
   "file_extension": ".py",
   "mimetype": "text/x-python",
   "name": "python",
   "nbconvert_exporter": "python",
   "pygments_lexer": "ipython3",
   "version": "3.7.13"
  }
 },
 "nbformat": 4,
 "nbformat_minor": 4
}
