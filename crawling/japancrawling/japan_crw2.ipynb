{
 "cells": [
  {
   "cell_type": "code",
   "execution_count": 1,
   "metadata": {},
   "outputs": [
    {
     "name": "stderr",
     "output_type": "stream",
     "text": [
      "/root/anaconda3/envs/test/lib/python3.7/site-packages/ipykernel_launcher.py:20: DeprecationWarning: executable_path has been deprecated, please pass in a Service object\n"
     ]
    }
   ],
   "source": [
    "from selenium.webdriver.common.action_chains import ActionChains\n",
    "import cv2\n",
    "import os\n",
    "from selenium import webdriver\n",
    "import time\n",
    "import selenium\n",
    "from selenium.webdriver.common.keys import Keys\n",
    "import urllib.request\n",
    "import time\n",
    "import cv2\n",
    "from bs4 import BeautifulSoup\n",
    "from selenium.webdriver.common.by import By\n",
    "\n",
    "chrome_options = webdriver.ChromeOptions()\n",
    "chrome_options.add_argument('--headless')\n",
    "chrome_options.add_argument('--no-sandbox')\n",
    "chrome_options.add_argument(\"--single-process\")\n",
    "chrome_options.add_argument(\"--disable-dev-shm-usage\")\n",
    "path='/data/notebook/chromedriver'\n",
    "driver = webdriver.Chrome(path, options=chrome_options)"
   ]
  },
  {
   "cell_type": "code",
   "execution_count": 2,
   "metadata": {},
   "outputs": [],
   "source": [
    "from japan_crw2 import gglcrawling"
   ]
  },
  {
   "cell_type": "code",
   "execution_count": 3,
   "metadata": {},
   "outputs": [
    {
     "name": "stderr",
     "output_type": "stream",
     "text": [
      "/root/anaconda3/envs/test/lib/python3.7/site-packages/ipykernel_launcher.py:9: DeprecationWarning: executable_path has been deprecated, please pass in a Service object\n",
      "  if __name__ == '__main__':\n",
      "/data/notebook/Japancrw/japan_crw2.py:119: FutureWarning: elementwise comparison failed; returning scalar instead, but in the future will perform elementwise comparison\n",
      "  if image != \"false\":\n"
     ]
    }
   ],
   "source": [
    "for age in range(1,4):\n",
    "    for gender in range(2):\n",
    "        chrome_options = webdriver.ChromeOptions()\n",
    "        chrome_options.add_argument('--headless')\n",
    "        chrome_options.add_argument('--no-sandbox')\n",
    "        chrome_options.add_argument(\"--single-process\")\n",
    "        chrome_options.add_argument(\"--disable-dev-shm-usage\")\n",
    "        path='/data/notebook/chromedriver'\n",
    "        driver = webdriver.Chrome(path, options=chrome_options)\n",
    "\n",
    "        gglcrawling(driver,gender,age)"
   ]
  },
  {
   "cell_type": "code",
   "execution_count": 5,
   "metadata": {},
   "outputs": [
    {
     "name": "stderr",
     "output_type": "stream",
     "text": [
      "/root/anaconda3/envs/test/lib/python3.7/site-packages/ipykernel_launcher.py:7: DeprecationWarning: executable_path has been deprecated, please pass in a Service object\n",
      "  import sys\n"
     ]
    },
    {
     "name": "stdout",
     "output_type": "stream",
     "text": [
      "Tenma_Uesugi\n",
      "44\n",
      "https://stage-model.com/wp-content/uploads/2022/09/uesugi1.webp\n",
      "https://stage-model.com/wp-content/uploads/2022/09/uesugi2.webp\n",
      "Haruto_Kuromiya\n",
      "42\n",
      "https://stage-model.com/wp-content/uploads/2022/11/kuromiya1.jpg\n",
      "https://stage-model.com/wp-content/uploads/2022/11/kuromiya2.jpg\n",
      "Momotaro_Sakura\n",
      "42\n",
      "https://stage-model.com/wp-content/uploads/2022/09/sakura1.webp\n",
      "https://stage-model.com/wp-content/uploads/2022/09/sakura2.webp\n",
      "Taizo_Shinomiya\n",
      "50\n",
      "https://stage-model.com/wp-content/uploads/2022/09/shinomiya1.webp\n",
      "https://stage-model.com/wp-content/uploads/2022/09/shinomiya2.webp\n",
      "Kotetsu_Mendo\n",
      "54\n",
      "https://stage-model.com/wp-content/uploads/2022/09/mendo1.webp\n",
      "https://stage-model.com/wp-content/uploads/2022/09/mendo2.webp\n",
      "Ayumi_Takemura\n",
      "58\n",
      "https://stage-model.com/wp-content/uploads/2022/09/takemura1.webp\n",
      "https://stage-model.com/wp-content/uploads/2022/09/takemura2.webp\n",
      "Seiki_Natsuki\n",
      "52\n",
      "https://stage-model.com/wp-content/uploads/2022/09/natsuki1.webp\n",
      "https://stage-model.com/wp-content/uploads/2022/09/natsuki2.webp\n",
      "Rukou_Nagayama\n",
      "41\n",
      "https://stage-model.com/wp-content/uploads/2022/09/nagayama1.webp\n",
      "https://stage-model.com/wp-content/uploads/2022/09/nagayama2.webp\n",
      "https://stage-model.com/wp-content/uploads/2022/09/nagayama3.webp\n",
      "Ryuji_Makino\n",
      "55\n",
      "https://stage-model.com/wp-content/uploads/2022/09/makino1.webp\n",
      "https://stage-model.com/wp-content/uploads/2022/09/makino2.webp\n"
     ]
    }
   ],
   "source": [
    "chrome_options = webdriver.ChromeOptions()\n",
    "chrome_options.add_argument('--headless')\n",
    "chrome_options.add_argument('--no-sandbox')\n",
    "chrome_options.add_argument(\"--single-process\")\n",
    "chrome_options.add_argument(\"--disable-dev-shm-usage\")\n",
    "path='/data/notebook/chromedriver'\n",
    "driver = webdriver.Chrome(path, options=chrome_options)\n",
    "\n",
    "age = 1\n",
    "gender = 0\n",
    "\n",
    "if gender == 0:\n",
    "    gender = \"men\"\n",
    "else:\n",
    "    gender = \"women\"\n",
    "\n",
    "if age == 3:\n",
    "    age = \"60\"\n",
    "else:\n",
    "    age = str(age*20)+'-'+str(age*20+10)\n",
    "\n",
    "driver.get(\"https://stage-model.com/tag/\"+gender+age)##open google image search page\n",
    "\n",
    "time.sleep(2)\n",
    "\n",
    "pageString = driver.page_source\n",
    "bsObj = BeautifulSoup(pageString, \"lxml\")\n",
    "\n",
    "# genderlist = driver.find_elements(by=By.CSS_SELECTOR, value='members li')\n",
    "imglist = driver.find_elements(by=By.XPATH, value='''//*[@id=\"wrap\"]/main/section/div/ul/li/a''')\n",
    "urllist = []\n",
    "\n",
    "for img in imglist:\n",
    "    urllist.append(img.get_attribute('href'))\n",
    "\n",
    "for url in urllist:\n",
    "    driver.get(url)\n",
    "    time.sleep(1)\n",
    "\n",
    "    name = driver.find_element(by=By.XPATH, value=\"\"\"//*[@id=\"wrap\"]/main/div[1]/div/div[1]/div[2]/h2/span\"\"\").text\n",
    "    name = name.replace(' ','_')\n",
    "    name = name.replace('　','_')\n",
    "\n",
    "    year = driver.find_element(by=By.XPATH, value=\"\"\"//*[@id=\"wrap\"]/main/div[1]/div/div[1]/div[2]/div/dl[1]/dd\"\"\").text\n",
    "    age = 2022 - int(year[:4])\n",
    "\n",
    "#     try: \n",
    "#         os.mkdir('/data/notebook/Japancrw/img/'+name)\n",
    "#     except:\n",
    "#         continue\n",
    "#             os.mkdir('/data/notebook/Japancrw/img/'+name+'1')\n",
    "#             name = name+'1'\n",
    "#             print(name)\n",
    "\n",
    "    picnum=0\n",
    "    print(name)\n",
    "    print(age)\n",
    "    imgs = driver.find_elements(by=By.XPATH, value=\"\"\"//*[@id=\"wrap\"]/main/div/div/div[1]/div[1]/ul[1]/div/div/div/div/li/img\"\"\")\n",
    "\n",
    "    for img in imgs:\n",
    "        img = img.get_attribute('src')\n",
    "        print(img)"
   ]
  },
  {
   "cell_type": "code",
   "execution_count": null,
   "metadata": {},
   "outputs": [],
   "source": []
  }
 ],
 "metadata": {
  "kernelspec": {
   "display_name": "jupyter",
   "language": "python",
   "name": "test"
  },
  "language_info": {
   "codemirror_mode": {
    "name": "ipython",
    "version": 3
   },
   "file_extension": ".py",
   "mimetype": "text/x-python",
   "name": "python",
   "nbconvert_exporter": "python",
   "pygments_lexer": "ipython3",
   "version": "3.7.13"
  }
 },
 "nbformat": 4,
 "nbformat_minor": 4
}
