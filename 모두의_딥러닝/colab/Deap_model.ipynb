{
  "nbformat": 4,
  "nbformat_minor": 0,
  "metadata": {
    "colab": {
      "provenance": []
    },
    "kernelspec": {
      "name": "python3",
      "display_name": "Python 3"
    },
    "language_info": {
      "name": "python"
    }
  },
  "cells": [
    {
      "cell_type": "markdown",
      "source": [
        "# 딥러닝 모델 설계하기\n",
        "\n",
        "## 1. 환경 준비"
      ],
      "metadata": {
        "id": "67Z7RNiqfhOi"
      }
    },
    {
      "cell_type": "code",
      "source": [
        "# 텐서플로 라이브러리 안에 있는 케라스 API에서 필요한 함수들을 불러온다.\n",
        "from tensorflow.keras.models import Sequential\n",
        "from tensorflow.keras.layers import Dense\n",
        "\n",
        "# 데이터를 다루는 데 필요한 라이브러리를 불러온다.\n",
        "import numpy as np"
      ],
      "metadata": {
        "id": "ccXoxmEmfkgv"
      },
      "execution_count": 1,
      "outputs": []
    },
    {
      "cell_type": "markdown",
      "source": [
        "## 2. 데이터 준비"
      ],
      "metadata": {
        "id": "juf4At_zgsjQ"
      }
    },
    {
      "cell_type": "code",
      "source": [
        "# 깃허브에 준비된 데이터를 가져온다.\n",
        "!git clone https://github.com/taehojo/data.git\n",
        "\n",
        "# 준비된 수술 환자 데이터를 불러온다.\n",
        "Data_set = np.loadtxt(\"./data/ThoraricSurgery3.csv\", delimiter=\",\")\n",
        "X = Data_set[:,0:16]    # 환자의 진찰 기록을 X로 지정\n",
        "y = Data_set[:,16]      # 수술 1년 후 사망/생존 여부를 y로 지정"
      ],
      "metadata": {
        "colab": {
          "base_uri": "https://localhost:8080/"
        },
        "id": "oPZPxWTJgmyi",
        "outputId": "6ac03199-742c-4661-cb34-34a89141e83d"
      },
      "execution_count": 3,
      "outputs": [
        {
          "output_type": "stream",
          "name": "stdout",
          "text": [
            "Cloning into 'data'...\n",
            "remote: Enumerating objects: 32, done.\u001b[K\n",
            "remote: Counting objects: 100% (32/32), done.\u001b[K\n",
            "remote: Compressing objects: 100% (27/27), done.\u001b[K\n",
            "remote: Total 32 (delta 7), reused 23 (delta 3), pack-reused 0 (from 0)\u001b[K\n",
            "Receiving objects: 100% (32/32), 467.96 KiB | 2.29 MiB/s, done.\n",
            "Resolving deltas: 100% (7/7), done.\n"
          ]
        }
      ]
    },
    {
      "cell_type": "markdown",
      "source": [
        "## 3. 구조 결정"
      ],
      "metadata": {
        "id": "ZLK8yhZagrp2"
      }
    },
    {
      "cell_type": "code",
      "source": [
        "# 딥러닝 모델의 구조를 결정한다.\n",
        "model = Sequential()\n",
        "model.add(Dense(30, input_dim=16, activation='relu'))\n",
        "model.add(Dense(1, activation='sigmoid'))"
      ],
      "metadata": {
        "id": "_ECTWJYBgrTW"
      },
      "execution_count": 5,
      "outputs": []
    },
    {
      "cell_type": "markdown",
      "source": [
        "딥러닝이란 입력층과 출력층 사이에 은닉층들을 추가하면서 학습시키는 것으로 이 층들이 케라스에서는 Sequential() 함수를 통해 구현된다.  \n",
        "Sequential() 함수를 model로 선언하고 model.add()로 층을 추가한다.  \n",
        "위의 코드는 model.add()가 두개 있으므로 총 두 개의 층을 지니게 된다. 마지막 층은 출력층이 되므로 두 개의 층은 각각 은닉층과 출력층이다.\n",
        "\n",
        "<br>\n",
        "\n",
        "각각의 층은 Dense라는 함수를 통해 구조가 결정된다.  \n",
        " Dense() 함수의 첫 번째 인자에는 노드의 개수를 적어준다. 또한 input_dim이라는 변수를 넣음으로 첫번째 은닉층이 입력층의 역할까지 하게 된다.  \n",
        "두번째 model.add()를 보면 출력층이므로 노드는 1개가 되고 활성화 함수로 sigmoid를 사용하였다.\n"
      ],
      "metadata": {
        "id": "qDJkxlMThABa"
      }
    },
    {
      "cell_type": "markdown",
      "source": [
        "## 4. 모델 실행"
      ],
      "metadata": {
        "id": "Q4vSRwwinUG7"
      }
    },
    {
      "cell_type": "code",
      "source": [
        "# 딥러닝 모델을 실행한다.\n",
        "model.compile(loss='binary_crossentropy', optimizer='adam', metrics=['accuracy'])\n",
        "history=model.fit(X, y, epochs=5, batch_size=16)"
      ],
      "metadata": {
        "colab": {
          "base_uri": "https://localhost:8080/"
        },
        "id": "clxJbAXag_Cn",
        "outputId": "0ee2d5a6-691e-4231-9772-f23efd6450d0"
      },
      "execution_count": 6,
      "outputs": [
        {
          "output_type": "stream",
          "name": "stdout",
          "text": [
            "Epoch 1/5\n",
            "\u001b[1m30/30\u001b[0m \u001b[32m━━━━━━━━━━━━━━━━━━━━\u001b[0m\u001b[37m\u001b[0m \u001b[1m1s\u001b[0m 3ms/step - accuracy: 0.1944 - loss: 4.6338\n",
            "Epoch 2/5\n",
            "\u001b[1m30/30\u001b[0m \u001b[32m━━━━━━━━━━━━━━━━━━━━\u001b[0m\u001b[37m\u001b[0m \u001b[1m0s\u001b[0m 2ms/step - accuracy: 0.8734 - loss: 0.5007\n",
            "Epoch 3/5\n",
            "\u001b[1m30/30\u001b[0m \u001b[32m━━━━━━━━━━━━━━━━━━━━\u001b[0m\u001b[37m\u001b[0m \u001b[1m0s\u001b[0m 3ms/step - accuracy: 0.8647 - loss: 0.4196\n",
            "Epoch 4/5\n",
            "\u001b[1m30/30\u001b[0m \u001b[32m━━━━━━━━━━━━━━━━━━━━\u001b[0m\u001b[37m\u001b[0m \u001b[1m0s\u001b[0m 3ms/step - accuracy: 0.8837 - loss: 0.4124\n",
            "Epoch 5/5\n",
            "\u001b[1m30/30\u001b[0m \u001b[32m━━━━━━━━━━━━━━━━━━━━\u001b[0m\u001b[37m\u001b[0m \u001b[1m0s\u001b[0m 3ms/step - accuracy: 0.8640 - loss: 0.4441\n"
          ]
        }
      ]
    },
    {
      "cell_type": "markdown",
      "source": [
        "model.compile 부분은 앞서 지정한 모델이 효과적으로 구현될 수 있게 여러 가지 환경을 설정해 주면서 컴파일하는 부분이다.  \n",
        "폐암 수술 환자의 생존율 예측은 생존과 사망, 둘 중 하나를 예측하므로 교차 엔트로피 오차 함수를 적용해준다.  \n",
        "현재 가장 많이 사용하는 옵티마이저는 adam이다.\n",
        "\n",
        "선형 회귀 모델은 평균 제곱 계열 중 하나를, 이항 분류를 위해서는 *binary_crossentropy*를, 그리고 다항 분류에서는 *categorical_crossentropy*를 사용한다.\n",
        "\n",
        "<br>\n",
        "\n",
        "학습셋에 대한 정확도에 기반해 결과를 출력하기 위해 metrics에는 accuracy를 적어주었다.\n",
        "\n",
        "<br>\n",
        "\n",
        "컴파일 단계에서 정해진 환경을 주어진 데이터를 불러 실행시키기 위해 model.fit() 함수를 사용하였다.\n",
        "\n",
        "학습 프로세스가 모든 샘플에 대해 한 번 실행되는 것을 1 epoch라고 하며 위에서는 5번 사용하게 실행을 반복하도록 설정하였다.  \n",
        "batch_size는 샘플을 한 번에 몇 개씩 처리할지 정하는 부분으로 너무 크 학습 속도가 느려지고 너무 작으면 실행값에 편차가 생겨 결과값이 불안정해진다."
      ],
      "metadata": {
        "id": "ucKS8wVVnb6R"
      }
    },
    {
      "cell_type": "code",
      "source": [],
      "metadata": {
        "id": "fsx3_0RYnatW"
      },
      "execution_count": null,
      "outputs": []
    }
  ]
}