{
  "cells": [
    {
      "cell_type": "markdown",
      "metadata": {
        "id": "qT15kyKP74qx"
      },
      "source": []
    },
    {
      "cell_type": "markdown",
      "metadata": {
        "id": "88ERDUYs74uy"
      },
      "source": [
        "# 파이썬 코딩으로 확인하는 선형 회귀"
      ]
    },
    {
      "cell_type": "markdown",
      "metadata": {
        "id": "oUMD9sUP7_U5"
      },
      "source": [
        "## 1. 환경 준비"
      ]
    },
    {
      "cell_type": "code",
      "execution_count": 1,
      "metadata": {
        "id": "THmzY2yc75pQ"
      },
      "outputs": [
        {
          "ename": "ModuleNotFoundError",
          "evalue": "No module named 'numpy'",
          "output_type": "error",
          "traceback": [
            "\u001b[1;31m---------------------------------------------------------------------------\u001b[0m",
            "\u001b[1;31mModuleNotFoundError\u001b[0m                       Traceback (most recent call last)",
            "Cell \u001b[1;32mIn[1], line 1\u001b[0m\n\u001b[1;32m----> 1\u001b[0m \u001b[38;5;28;01mimport\u001b[39;00m \u001b[38;5;21;01mnumpy\u001b[39;00m \u001b[38;5;28;01mas\u001b[39;00m \u001b[38;5;21;01mnp\u001b[39;00m\n\u001b[0;32m      2\u001b[0m \u001b[38;5;28;01mimport\u001b[39;00m \u001b[38;5;21;01mmatplotlib\u001b[39;00m\u001b[38;5;21;01m.\u001b[39;00m\u001b[38;5;21;01mpyplot\u001b[39;00m \u001b[38;5;28;01mas\u001b[39;00m \u001b[38;5;21;01mplt\u001b[39;00m\n",
            "\u001b[1;31mModuleNotFoundError\u001b[0m: No module named 'numpy'"
          ]
        }
      ],
      "source": [
        "import numpy as np\n",
        "import matplotlib.pyplot as plt"
      ]
    },
    {
      "cell_type": "markdown",
      "metadata": {
        "id": "-Qi_RIhH8KA7"
      },
      "source": [
        "## 2. 데이터 준비"
      ]
    },
    {
      "cell_type": "code",
      "execution_count": 3,
      "metadata": {
        "id": "BAR9mUKQ8Gbj"
      },
      "outputs": [],
      "source": [
        "# 공부 시간 x와 성적 y의 numpy 배열 생성\n",
        "x = np.array([2, 4, 6, 8])\n",
        "y = np.array([81, 93, 91, 97])"
      ]
    },
    {
      "cell_type": "markdown",
      "metadata": {
        "id": "zpLLLQmn8bIG"
      },
      "source": [
        "### 3. 데이터 분포 확인"
      ]
    },
    {
      "cell_type": "code",
      "execution_count": 5,
      "metadata": {
        "colab": {
          "base_uri": "https://localhost:8080/"
        },
        "id": "RZgtD6x88Ro4",
        "outputId": "b59faaad-6b59-4383-864a-ecadd46fbe7c"
      },
      "outputs": [
        {
          "name": "stdout",
          "output_type": "stream",
          "text": [
            "x의 평균값: 5.0\n",
            "y의 평균값: 90.5\n"
          ]
        }
      ],
      "source": [
        "# 데이터의 분포를 그래프로 표현\n",
        "plt.scatter(x, y)\n",
        "plt.show()"
      ]
    },
    {
      "cell_type": "markdown",
      "metadata": {
        "id": "XcZqPSi68woJ"
      },
      "source": [
        "### 4. 실행을 위한 변수 설정"
      ]
    },
    {
      "cell_type": "code",
      "execution_count": 2,
      "metadata": {
        "colab": {
          "base_uri": "https://localhost:8080/"
        },
        "id": "ItC0Es5k8huL",
        "outputId": "1d4a0eb3-c9a3-4d04-859f-ef3ef5c018ce"
      },
      "outputs": [],
      "source": [
        "# 기울기 a와 절편 b 초기화\n",
        "a = 0\n",
        "b = 0\n",
        "\n",
        "# 학습률 설정\n",
        "lr = 0.03\n",
        "\n",
        "# 몇 번 반복될지 설정 \n",
        "epochs = 2001 "
      ]
    },
    {
      "cell_type": "markdown",
      "metadata": {
        "id": "MsPUxXTP9BdP"
      },
      "source": [
        "### 5. 경사 하강법"
      ]
    },
    {
      "cell_type": "code",
      "execution_count": 3,
      "metadata": {
        "colab": {
          "base_uri": "https://localhost:8080/"
        },
        "id": "HoNV_Cuw89o0",
        "outputId": "3f60fd6f-687b-487d-e66d-2c1e3ddade52"
      },
      "outputs": [
        {
          "ename": "NameError",
          "evalue": "name 'x' is not defined",
          "output_type": "error",
          "traceback": [
            "\u001b[1;31m---------------------------------------------------------------------------\u001b[0m",
            "\u001b[1;31mNameError\u001b[0m                                 Traceback (most recent call last)",
            "Cell \u001b[1;32mIn[3], line 2\u001b[0m\n\u001b[0;32m      1\u001b[0m \u001b[38;5;66;03m# x 값이 총 개수\u001b[39;00m\n\u001b[1;32m----> 2\u001b[0m n\u001b[38;5;241m=\u001b[39m\u001b[38;5;28mlen\u001b[39m(\u001b[43mx\u001b[49m)\n\u001b[0;32m      4\u001b[0m \u001b[38;5;66;03m# 경사 하강법\u001b[39;00m\n\u001b[0;32m      5\u001b[0m \u001b[38;5;28;01mfor\u001b[39;00m i \u001b[38;5;129;01min\u001b[39;00m \u001b[38;5;28mrange\u001b[39m(epochs):                  \u001b[38;5;66;03m# 에포크 수 만큼 반복\u001b[39;00m\n",
            "\u001b[1;31mNameError\u001b[0m: name 'x' is not defined"
          ]
        }
      ],
      "source": [
        "# x 값이 총 개수\n",
        "n=len(x)\n",
        "\n",
        "# 경사 하강법\n",
        "for i in range(epochs):                  # 에포크 수 만큼 반복\n",
        "    \n",
        "    y_pred = a * x + b                   # 예측 값을 구하는 식- \n",
        "    error = y - y_pred                   # 실제 값과 비교한 오차를 error로 설정\n",
        "    \n",
        "    a_diff = (2/n) * sum(-x * (error))   # 오차 함수를 a로 편미분\n",
        "    b_diff = (2/n) * sum(-(error))       # 오차 함수를 b로 편미분\n",
        "    \n",
        "    a = a - lr * a_diff     # 학습률을 곱해 기존의 a 값 업데이트\n",
        "    b = b - lr * b_diff     # 학습률을 곱해 기존의 b 값 업데이트\n",
        "    \n",
        "    if i % 100 == 0:        # 100번 반복될 때마다 현재의 a 값, b 값을 출력\n",
        "        print(\"epoch=%.f, 기울기=%.04f, 절편=%.04f\" % (i, a, b))  "
      ]
    },
    {
      "cell_type": "markdown",
      "metadata": {},
      "source": [
        "### 6. 그래프 확인"
      ]
    },
    {
      "cell_type": "code",
      "execution_count": null,
      "metadata": {
        "id": "K-orY5AN9JXH"
      },
      "outputs": [],
      "source": [
        "# 최종 a 값을 기울기, b 값을 y 절편에 대입하여 그래프 생성\n",
        "y_pred = a * x + b      \n",
        "\n",
        "# 그래프 출력\n",
        "plt.scatter(x, y)\n",
        "plt.plot(x, y_pred,'r')\n",
        "plt.show()"
      ]
    }
  ],
  "metadata": {
    "colab": {
      "provenance": [],
      "toc_visible": true
    },
    "kernelspec": {
      "display_name": "Python 3",
      "name": "python3"
    },
    "language_info": {
      "codemirror_mode": {
        "name": "ipython",
        "version": 3
      },
      "file_extension": ".py",
      "mimetype": "text/x-python",
      "name": "python",
      "nbconvert_exporter": "python",
      "pygments_lexer": "ipython3",
      "version": "3.10.0"
    }
  },
  "nbformat": 4,
  "nbformat_minor": 0
}
