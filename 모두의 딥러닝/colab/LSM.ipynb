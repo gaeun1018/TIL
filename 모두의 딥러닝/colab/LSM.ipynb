{
  "cells": [
    {
      "cell_type": "markdown",
      "metadata": {
        "id": "qT15kyKP74qx"
      },
      "source": []
    },
    {
      "cell_type": "markdown",
      "metadata": {
        "id": "88ERDUYs74uy"
      },
      "source": [
        "# 파이썬 코딩으로 확인하는 최소 제곱"
      ]
    },
    {
      "cell_type": "markdown",
      "metadata": {
        "id": "oUMD9sUP7_U5"
      },
      "source": [
        "## 1. 환경 준비"
      ]
    },
    {
      "cell_type": "code",
      "execution_count": 2,
      "metadata": {
        "id": "THmzY2yc75pQ"
      },
      "outputs": [],
      "source": [
        "import numpy as np"
      ]
    },
    {
      "cell_type": "markdown",
      "metadata": {
        "id": "-Qi_RIhH8KA7"
      },
      "source": [
        "## 2. 데이터 준비"
      ]
    },
    {
      "cell_type": "code",
      "execution_count": 3,
      "metadata": {
        "id": "BAR9mUKQ8Gbj"
      },
      "outputs": [],
      "source": [
        "# 공부 시간 x와 성적 y의 numpy 배열 생성\n",
        "x = np.array([2, 4, 6, 8])\n",
        "y = np.array([81, 93, 91, 97])"
      ]
    },
    {
      "cell_type": "markdown",
      "metadata": {
        "id": "zpLLLQmn8bIG"
      },
      "source": [
        "#### x와 y의 평균값"
      ]
    },
    {
      "cell_type": "code",
      "execution_count": 5,
      "metadata": {
        "colab": {
          "base_uri": "https://localhost:8080/"
        },
        "id": "RZgtD6x88Ro4",
        "outputId": "b59faaad-6b59-4383-864a-ecadd46fbe7c"
      },
      "outputs": [
        {
          "name": "stdout",
          "output_type": "stream",
          "text": [
            "x의 평균값: 5.0\n",
            "y의 평균값: 90.5\n"
          ]
        }
      ],
      "source": [
        "mx = np.mean(x)\n",
        "my = np.mean(y)\n",
        "\n",
        "print(\"x의 평균값:\", mx)\n",
        "print(\"y의 평균값:\", my)"
      ]
    },
    {
      "cell_type": "markdown",
      "metadata": {
        "id": "XcZqPSi68woJ"
      },
      "source": [
        "#### 기울기 공식의 분모와 분자"
      ]
    },
    {
      "cell_type": "code",
      "execution_count": 6,
      "metadata": {
        "colab": {
          "base_uri": "https://localhost:8080/"
        },
        "id": "ItC0Es5k8huL",
        "outputId": "1d4a0eb3-c9a3-4d04-859f-ef3ef5c018ce"
      },
      "outputs": [
        {
          "name": "stdout",
          "output_type": "stream",
          "text": [
            "분모: 20.0\n",
            "분자: 46.0\n"
          ]
        }
      ],
      "source": [
        "# 기울기 공식의 분모\n",
        "divisor = sum([(i - mx)**2 for i in x])\n",
        "\n",
        "# 기울기 공식의 분자\n",
        "def top(x, mx, y, my):\n",
        "    d = 0\n",
        "    for i in range(len(x)):\n",
        "        d += (x[i] - mx) * (y[i] - my)\n",
        "    return d\n",
        "dividend = top(x, mx, y, my)\n",
        "\n",
        "\n",
        "print(\"분모:\", divisor)\n",
        "print(\"분자:\", dividend)"
      ]
    },
    {
      "cell_type": "markdown",
      "metadata": {
        "id": "MsPUxXTP9BdP"
      },
      "source": [
        "### 3. 기울기와 y 절편 구하기"
      ]
    },
    {
      "cell_type": "code",
      "execution_count": 7,
      "metadata": {
        "colab": {
          "base_uri": "https://localhost:8080/"
        },
        "id": "HoNV_Cuw89o0",
        "outputId": "3f60fd6f-687b-487d-e66d-2c1e3ddade52"
      },
      "outputs": [
        {
          "name": "stdout",
          "output_type": "stream",
          "text": [
            "기울기 a = 2.3\n",
            "y절편 b = 79.0\n"
          ]
        }
      ],
      "source": [
        "a = dividend / divisor\n",
        "b = my - (mx*a)\n",
        "\n",
        "print(\"기울기 a =\", a)\n",
        "print(\"y절편 b =\", b)"
      ]
    },
    {
      "cell_type": "code",
      "execution_count": null,
      "metadata": {
        "id": "K-orY5AN9JXH"
      },
      "outputs": [],
      "source": []
    }
  ],
  "metadata": {
    "colab": {
      "provenance": [],
      "toc_visible": true
    },
    "kernelspec": {
      "display_name": "Python 3",
      "name": "python3"
    },
    "language_info": {
      "name": "python"
    }
  },
  "nbformat": 4,
  "nbformat_minor": 0
}
